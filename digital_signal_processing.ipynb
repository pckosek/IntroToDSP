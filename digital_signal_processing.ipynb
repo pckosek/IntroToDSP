{
 "cells": [
  {
   "cell_type": "markdown",
   "metadata": {},
   "source": [
    "# Introduction to Digital Signal Processing"
   ]
  },
  {
   "cell_type": "code",
   "execution_count": 1,
   "metadata": {},
   "outputs": [],
   "source": [
    "%plot inline -w 300 -h 300"
   ]
  },
  {
   "cell_type": "markdown",
   "metadata": {},
   "source": [
    "# 1. convolution (1-dimension)\n",
    "### 1.1 basic (1-dimension)"
   ]
  },
  {
   "cell_type": "code",
   "execution_count": 2,
   "metadata": {},
   "outputs": [
    {
     "name": "stdout",
     "output_type": "stream",
     "text": [
      "\n",
      "ans =\n",
      "\n",
      "     0    99     0     0\n",
      "\n",
      "\n"
     ]
    }
   ],
   "source": [
    "x = [0, 1, 0, 0];\n",
    "y = [99];\n",
    "conv(x,y)"
   ]
  },
  {
   "cell_type": "code",
   "execution_count": 3,
   "metadata": {},
   "outputs": [
    {
     "name": "stdout",
     "output_type": "stream",
     "text": [
      "\n",
      "ans =\n",
      "\n",
      "    20     0     0    40\n",
      "\n",
      "\n"
     ]
    }
   ],
   "source": [
    "x = [2, 0, 0, 4];\n",
    "y = [10];\n",
    "conv(x,y)"
   ]
  },
  {
   "cell_type": "code",
   "execution_count": 4,
   "metadata": {},
   "outputs": [
    {
     "name": "stdout",
     "output_type": "stream",
     "text": [
      "\n",
      "ans =\n",
      "\n",
      "    20    10    10    40\n",
      "\n",
      "\n"
     ]
    }
   ],
   "source": [
    "x = [2, 1, 1, 4];\n",
    "y = [10];\n",
    "conv(x,y)"
   ]
  },
  {
   "cell_type": "code",
   "execution_count": 5,
   "metadata": {},
   "outputs": [
    {
     "name": "stdout",
     "output_type": "stream",
     "text": [
      "\n",
      "weights_by_index =\n",
      "\n",
      "     2     0     0     0     1\n",
      "\n",
      "\n",
      "target_to_scale =\n",
      "\n",
      "     2     4     6\n",
      "\n",
      "\n",
      "ans =\n",
      "\n",
      "     4     8    12     0     2     4     6\n",
      "\n",
      "\n"
     ]
    }
   ],
   "source": [
    "weights_by_index = [2, 0, 0, 0, 1]\n",
    "target_to_scale  = [2, 4, 6]\n",
    "conv(weights_by_index, target_to_scale)"
   ]
  },
  {
   "cell_type": "code",
   "execution_count": 6,
   "metadata": {},
   "outputs": [
    {
     "name": "stdout",
     "output_type": "stream",
     "text": [
      "\n",
      "x =\n",
      "\n",
      "     2     0     0     0     1\n",
      "\n",
      "\n",
      "kernel =\n",
      "\n",
      "     2     4     6\n",
      "\n",
      "\n",
      "ans =\n",
      "\n",
      "     4     8    12     0     2     4     6\n",
      "\n",
      "\n",
      "ans =\n",
      "\n",
      "     4     8    12     0     2     4     6\n",
      "\n",
      "\n"
     ]
    }
   ],
   "source": [
    "x       = [2, 0, 0, 0, 1]\n",
    "kernel  = [2, 4, 6]\n",
    "conv(x, kernel)\n",
    "conv(kernel, x)"
   ]
  },
  {
   "cell_type": "markdown",
   "metadata": {},
   "source": [
    "### 1.2 intermediate (1-dimension)"
   ]
  },
  {
   "cell_type": "code",
   "execution_count": 7,
   "metadata": {},
   "outputs": [
    {
     "name": "stdout",
     "output_type": "stream",
     "text": [
      "\n",
      "ans =\n",
      "\n",
      "     1     2     3     2     1\n",
      "\n",
      "\n"
     ]
    }
   ],
   "source": [
    "x     = [1, 1, 1];\n",
    "kern  = [1, 1, 1];\n",
    "conv(x,kern)"
   ]
  },
  {
   "cell_type": "code",
   "execution_count": 8,
   "metadata": {},
   "outputs": [
    {
     "name": "stdout",
     "output_type": "stream",
     "text": [
      "\n",
      "ans =\n",
      "\n",
      "     1    11   111   110   100\n",
      "\n",
      "\n"
     ]
    }
   ],
   "source": [
    "x     = [1, 10, 100];\n",
    "kern  = [1, 1, 1];\n",
    "conv(x,kern)"
   ]
  },
  {
   "cell_type": "markdown",
   "metadata": {},
   "source": [
    "# 2. convolution (2-dimensions)\n",
    "### 2.1 basics (2-dimensions)"
   ]
  },
  {
   "cell_type": "code",
   "execution_count": 9,
   "metadata": {},
   "outputs": [
    {
     "name": "stdout",
     "output_type": "stream",
     "text": [
      "\n",
      "x =\n",
      "\n",
      "     4     0     0\n",
      "     0     0     0\n",
      "     0     0     0\n",
      "\n",
      "\n",
      "kern =\n",
      "\n",
      "     1\n",
      "\n",
      "\n",
      "convRes =\n",
      "\n",
      "     4     0     0\n",
      "     0     0     0\n",
      "     0     0     0\n",
      "\n",
      "\n"
     ]
    }
   ],
   "source": [
    "x        = [4, 0, 0; 0, 0, 0; 0, 0, 0]\n",
    "kern     = [1]\n",
    "convRes  = conv2( x, kern, 'full' )"
   ]
  },
  {
   "cell_type": "markdown",
   "metadata": {},
   "source": [
    "### 2.2 intermediate (2-dimensions)"
   ]
  },
  {
   "cell_type": "code",
   "execution_count": 10,
   "metadata": {},
   "outputs": [
    {
     "name": "stdout",
     "output_type": "stream",
     "text": [
      "\n",
      "x =\n",
      "\n",
      "     4     0     0\n",
      "     0     0     0\n",
      "     0     0    10\n",
      "\n",
      "\n",
      "kern =\n",
      "\n",
      "     1     1     1\n",
      "     1     1     1\n",
      "     1     1     1\n",
      "\n",
      "\n",
      "convRes =\n",
      "\n",
      "     4     4     4     0     0\n",
      "     4     4     4     0     0\n",
      "     4     4    14    10    10\n",
      "     0     0    10    10    10\n",
      "     0     0    10    10    10\n",
      "\n",
      "\n"
     ]
    }
   ],
   "source": [
    "x        = [4, 0, 0; 0, 0, 0; 0, 0, 10]\n",
    "kern     = [1,1,1;1 1 1; 1 1 1]\n",
    "convRes  = conv2( x, kern, 'full' )"
   ]
  },
  {
   "cell_type": "markdown",
   "metadata": {},
   "source": [
    "# 3. Signal Aliasing"
   ]
  },
  {
   "cell_type": "code",
   "execution_count": 11,
   "metadata": {},
   "outputs": [],
   "source": [
    "%plot inline -w 600 -h 300 "
   ]
  },
  {
   "cell_type": "code",
   "execution_count": 12,
   "metadata": {},
   "outputs": [
    {
     "name": "stdout",
     "output_type": "stream",
     "text": [
      "\n"
     ]
    },
    {
     "data": {
      "image/png": "[encoded data removed]",
      "text/plain": [
       "<IPython.core.display.Image object>"
      ]
     },
     "metadata": {},
     "output_type": "display_data"
    }
   ],
   "source": [
    "t = 2*pi*[0:99]/100;\n",
    "x = cos( 1*t );\n",
    "y = cos( 99*t );\n",
    "\n",
    "subplot( 1, 2, 1);plot(x, 'k+-'); set(gca,'ylim',[-1.2,1.2])\n",
    "subplot( 1, 2, 2);plot(y, 'k+-'); set(gca,'ylim',[-1.2,1.2])"
   ]
  },
  {
   "cell_type": "code",
   "execution_count": 13,
   "metadata": {},
   "outputs": [
    {
     "name": "stdout",
     "output_type": "stream",
     "text": [
      "\n"
     ]
    },
    {
     "data": {
      "image/png": "[encoded data removed]",
      "text/plain": [
       "<IPython.core.display.Image object>"
      ]
     },
     "metadata": {},
     "output_type": "display_data"
    }
   ],
   "source": [
    "t = 2*pi*[0:99]/100;\n",
    "x = cos( 2*t );\n",
    "y = cos( 98*t );\n",
    "\n",
    "subplot( 1, 2, 1);plot(x, 'k+-'); set(gca,'ylim',[-1.2,1.2])\n",
    "subplot( 1, 2, 2);plot(y, 'k+-'); set(gca,'ylim',[-1.2,1.2])"
   ]
  },
  {
   "cell_type": "code",
   "execution_count": 14,
   "metadata": {},
   "outputs": [
    {
     "name": "stdout",
     "output_type": "stream",
     "text": [
      "\n"
     ]
    },
    {
     "data": {
      "image/png": "[encoded data removed]",
      "text/plain": [
       "<IPython.core.display.Image object>"
      ]
     },
     "metadata": {},
     "output_type": "display_data"
    }
   ],
   "source": [
    "t = 2*pi*[0:99]/100;\n",
    "x = cos( 10*t );\n",
    "y = cos( 90*t );\n",
    "\n",
    "subplot( 1, 2, 1);plot(x, 'k+-'); set(gca,'ylim',[-1.2,1.2])\n",
    "subplot( 1, 2, 2);plot(y, 'k+-'); set(gca,'ylim',[-1.2,1.2])"
   ]
  },
  {
   "cell_type": "code",
   "execution_count": 15,
   "metadata": {},
   "outputs": [
    {
     "name": "stdout",
     "output_type": "stream",
     "text": [
      "\n"
     ]
    },
    {
     "data": {
      "image/png": "[encoded data removed]",
      "text/plain": [
       "<IPython.core.display.Image object>"
      ]
     },
     "metadata": {},
     "output_type": "display_data"
    }
   ],
   "source": [
    "t = 2*pi*[0:99]/100;\n",
    "x = cos( 0*t );\n",
    "y = cos( 100*t );\n",
    "\n",
    "subplot( 1, 2, 1);plot(x, 'k+-'); set(gca,'ylim',[-1.2,1.2])\n",
    "subplot( 1, 2, 2);plot(y, 'k+-'); set(gca,'ylim',[-1.2,1.2])"
   ]
  },
  {
   "cell_type": "markdown",
   "metadata": {},
   "source": [
    "# 4. Fourier Transform"
   ]
  },
  {
   "cell_type": "markdown",
   "metadata": {},
   "source": [
    "### 4.1 Equations:"
   ]
  },
  {
   "cell_type": "markdown",
   "metadata": {},
   "source": [
    "Continuous Time: <font size=\"5\">$$F(\\omega) = \\int_{-\\infty}^{\\infty} f(t) e^{-j \\omega t} \\,dt$$</font>\n",
    "\n",
    "Discrete Time: <font size=\"5\"> $$W_k = \\sum_{n=0}^{N-1} e^{-j 2 \\pi kn \\over N} x[n]$$\n",
    "</font>\n",
    "where $W_k$ is the DFT value for that sample, <br>\n",
    "where $x[n]$ is each individual sample, and<br>\n",
    "where $N$ is the total number of samples"
   ]
  },
  {
   "cell_type": "markdown",
   "metadata": {},
   "source": [
    "### 4.2 Visual Examples"
   ]
  },
  {
   "cell_type": "code",
   "execution_count": 16,
   "metadata": {},
   "outputs": [],
   "source": [
    "%plot inline -w 600 -h 300 "
   ]
  },
  {
   "cell_type": "code",
   "execution_count": 17,
   "metadata": {},
   "outputs": [
    {
     "name": "stdout",
     "output_type": "stream",
     "text": [
      "\n"
     ]
    },
    {
     "data": {
      "image/png": "[encoded data removed]",
      "text/plain": [
       "<IPython.core.display.Image object>"
      ]
     },
     "metadata": {},
     "output_type": "display_data"
    }
   ],
   "source": [
    "t = 2*pi*[0:99]/100;\n",
    "x = cos(t);\n",
    "\n",
    "subplot( 1, 2, 1);plot(x, 'k+-'); set(gca,'ylim',[-1.2,1.2])\n",
    "subplot( 1, 2, 2);stem( abs(fft(x)) , 'k');  set(gca,'ylim',[-1 100], 'xlim', [-10, 110])"
   ]
  },
  {
   "cell_type": "code",
   "execution_count": 18,
   "metadata": {},
   "outputs": [
    {
     "name": "stdout",
     "output_type": "stream",
     "text": [
      "\n"
     ]
    },
    {
     "data": {
      "image/png": "[encoded data removed]",
      "text/plain": [
       "<IPython.core.display.Image object>"
      ]
     },
     "metadata": {},
     "output_type": "display_data"
    }
   ],
   "source": [
    "t = 2*pi*[0:99]/100;\n",
    "x = cos( 10*t );\n",
    "\n",
    "subplot( 1, 2, 1);plot(x, 'k+-'); set(gca,'ylim',[-1.2,1.2])\n",
    "subplot( 1, 2, 2);stem( abs(fft(x)) , 'k');  set(gca,'ylim',[-1 100], 'xlim', [-10, 110])"
   ]
  },
  {
   "cell_type": "code",
   "execution_count": 19,
   "metadata": {},
   "outputs": [
    {
     "name": "stdout",
     "output_type": "stream",
     "text": [
      "\n"
     ]
    },
    {
     "data": {
      "image/png": "[encoded data removed]",
      "text/plain": [
       "<IPython.core.display.Image object>"
      ]
     },
     "metadata": {},
     "output_type": "display_data"
    }
   ],
   "source": [
    "t = 2*pi*[0:99]/100;\n",
    "x = cos( 20*t );\n",
    "\n",
    "subplot( 1, 2, 1);plot(x, 'k+-'); set(gca,'ylim',[-1.2,1.2])\n",
    "subplot( 1, 2, 2);stem( abs(fft(x)) , 'k');  set(gca,'ylim',[-1 100], 'xlim', [-10, 110])"
   ]
  },
  {
   "cell_type": "code",
   "execution_count": 20,
   "metadata": {},
   "outputs": [
    {
     "name": "stdout",
     "output_type": "stream",
     "text": [
      "\n"
     ]
    },
    {
     "data": {
      "image/png": "[encoded data removed]",
      "text/plain": [
       "<IPython.core.display.Image object>"
      ]
     },
     "metadata": {},
     "output_type": "display_data"
    }
   ],
   "source": [
    "t = 2*pi*[0:99]/100;\n",
    "x = cos( 0*t );\n",
    "\n",
    "subplot( 1, 2, 1);plot(x, 'k+-'); set(gca,'ylim',[-1.2,1.2])\n",
    "subplot( 1, 2, 2);stem( abs(fft(x)) , 'k');  set(gca,'ylim',[-1 100], 'xlim', [-10, 110])"
   ]
  },
  {
   "cell_type": "code",
   "execution_count": 21,
   "metadata": {},
   "outputs": [
    {
     "name": "stdout",
     "output_type": "stream",
     "text": [
      "\n"
     ]
    },
    {
     "data": {
      "image/png": "[encoded data removed]",
      "text/plain": [
       "<IPython.core.display.Image object>"
      ]
     },
     "metadata": {},
     "output_type": "display_data"
    }
   ],
   "source": [
    "t = 2*pi*[0:99]/100;\n",
    "x = .5*cos( 10*t ) + .5*cos( 20*t ) ;\n",
    "\n",
    "subplot( 1, 2, 1);plot(x, 'k+-'); set(gca,'ylim',[-1.1,1.1])\n",
    "subplot( 1, 2, 2);stem( abs(fft(x)) , 'k');  set(gca,'ylim',[-1 100], 'xlim', [-10, 110])"
   ]
  },
  {
   "cell_type": "code",
   "execution_count": 22,
   "metadata": {},
   "outputs": [
    {
     "name": "stdout",
     "output_type": "stream",
     "text": [
      "\n"
     ]
    },
    {
     "data": {
      "image/png": "[encoded data removed]",
      "text/plain": [
       "<IPython.core.display.Image object>"
      ]
     },
     "metadata": {},
     "output_type": "display_data"
    }
   ],
   "source": [
    "t = 2*pi*[0:99]/100;\n",
    "x =  .33*cos( 10*t ) + .33*cos( 20*t ) + .33*.6*randn(1,100);\n",
    "\n",
    "subplot( 1, 2, 1);plot(x, 'k+-'); set(gca,'ylim',[-1.1,1.1])\n",
    "subplot( 1, 2, 2);stem( abs(fft(x)) , 'k');  set(gca,'ylim',[-1 100], 'xlim', [-10, 110])"
   ]
  },
  {
   "cell_type": "markdown",
   "metadata": {},
   "source": [
    "# 5. Convolution as a Filter\n",
    "### 5.1 sinusoidal example"
   ]
  },
  {
   "cell_type": "code",
   "execution_count": 23,
   "metadata": {},
   "outputs": [
    {
     "name": "stdout",
     "output_type": "stream",
     "text": [
      "\n"
     ]
    },
    {
     "data": {
      "image/png": "[encoded data removed]",
      "text/plain": [
       "<IPython.core.display.Image object>"
      ]
     },
     "metadata": {},
     "output_type": "display_data"
    }
   ],
   "source": [
    "kern = idft_fir( [ones(1,20),zeros(1,80)] );    % this is my own function, not native MATLAB\n",
    "KERN = abs(fft(kern));\n",
    "\n",
    "subplot( 1, 2, 1);plot(kern, 'k+-'); set(gca,'ylim',[-.05, .225])\n",
    "subplot( 1, 2, 2);plot(KERN, 'k+-'); set(gca,'ylim',[-.1, 1.1], 'xlim', [-10, 201])"
   ]
  },
  {
   "cell_type": "code",
   "execution_count": 24,
   "metadata": {},
   "outputs": [
    {
     "name": "stdout",
     "output_type": "stream",
     "text": [
      "\n"
     ]
    },
    {
     "data": {
      "image/png": "[encoded data removed]",
      "text/plain": [
       "<IPython.core.display.Image object>"
      ]
     },
     "metadata": {},
     "output_type": "display_data"
    }
   ],
   "source": [
    "t = 2*pi*[0:99]/100;\n",
    "x = .5*cos( 10*t ) + .5*cos( 20*t ) ;\n",
    "X = abs(fft(x));\n",
    "\n",
    "subplot( 1, 2, 1);plot(x, 'k+-'); set(gca,'ylim',[-1.1, 1.1])\n",
    "subplot( 1, 2, 2);plot(X, 'k+-'); set(gca,'ylim',[-.1,26], 'xlim', [-10, length(x)+10])"
   ]
  },
  {
   "cell_type": "code",
   "execution_count": 25,
   "metadata": {},
   "outputs": [
    {
     "name": "stdout",
     "output_type": "stream",
     "text": [
      "\n"
     ]
    },
    {
     "data": {
      "image/png": "[encoded data removed]",
      "text/plain": [
       "<IPython.core.display.Image object>"
      ]
     },
     "metadata": {},
     "output_type": "display_data"
    }
   ],
   "source": [
    "x_filt = conv(x, kern);\n",
    "X_FILT = abs(fft(x_filt));\n",
    "\n",
    "subplot( 1, 2, 1);plot(x_filt, 'k+-'); set(gca,'ylim',[-1.1, 1.1])\n",
    "subplot( 1, 2, 2);plot(X_FILT, 'k+-'); set(gca,'ylim',[-.1,26], 'xlim', [-10, length(x_filt)+10])"
   ]
  },
  {
   "cell_type": "markdown",
   "metadata": {},
   "source": [
    "### 5.2 Noise Example"
   ]
  },
  {
   "cell_type": "code",
   "execution_count": 26,
   "metadata": {},
   "outputs": [
    {
     "name": "stdout",
     "output_type": "stream",
     "text": [
      "\n"
     ]
    },
    {
     "data": {
      "image/png": "[encoded data removed]",
      "text/plain": [
       "<IPython.core.display.Image object>"
      ]
     },
     "metadata": {},
     "output_type": "display_data"
    }
   ],
   "source": [
    "x = randn(1,100);\n",
    "x = x./max(abs(x));\n",
    "X = abs(fft(x));\n",
    "\n",
    "subplot( 1, 2, 1);plot(x, 'k+-'); set(gca,'ylim',[-1.1, 1.1])\n",
    "subplot( 1, 2, 2);plot(X, 'k+-'); set(gca,'ylim',[-.1,10], 'xlim', [-10, length(x)+10])"
   ]
  },
  {
   "cell_type": "code",
   "execution_count": 27,
   "metadata": {},
   "outputs": [
    {
     "name": "stdout",
     "output_type": "stream",
     "text": [
      "\n"
     ]
    },
    {
     "data": {
      "image/png": "[encoded data removed]",
      "text/plain": [
       "<IPython.core.display.Image object>"
      ]
     },
     "metadata": {},
     "output_type": "display_data"
    }
   ],
   "source": [
    "x_filt = conv(x, kern);\n",
    "X_FILT = abs(fft(x_filt));\n",
    "\n",
    "subplot( 1, 2, 1);plot(x_filt, 'k+-'); set(gca,'ylim',[-1.1, 1.1])\n",
    "subplot( 1, 2, 2);plot(X_FILT, 'k+-'); set(gca,'ylim',[-.1, 10], 'xlim', [-10, length(x_filt)+10])"
   ]
  },
  {
   "cell_type": "markdown",
   "metadata": {},
   "source": [
    "# 6. Fast Convolution"
   ]
  },
  {
   "cell_type": "markdown",
   "metadata": {},
   "source": [
    "Recall:"
   ]
  },
  {
   "cell_type": "code",
   "execution_count": 28,
   "metadata": {},
   "outputs": [
    {
     "name": "stdout",
     "output_type": "stream",
     "text": [
      "\n",
      "ans =\n",
      "\n",
      "     1     2     3     2     1\n",
      "\n",
      "\n"
     ]
    }
   ],
   "source": [
    "x     = [1, 1, 1];\n",
    "kern  = [1, 1, 1];\n",
    "conv(x,kern)"
   ]
  },
  {
   "cell_type": "markdown",
   "metadata": {},
   "source": [
    "### 6.1 Fourier Multiplication (1-dimension) "
   ]
  },
  {
   "cell_type": "code",
   "execution_count": 29,
   "metadata": {},
   "outputs": [
    {
     "name": "stdout",
     "output_type": "stream",
     "text": [
      "\n",
      "x_ =\n",
      "\n",
      "     1     1     1     0     0\n",
      "\n",
      "\n",
      "kern_ =\n",
      "\n",
      "     1     1     1     0     0\n",
      "\n",
      "\n"
     ]
    }
   ],
   "source": [
    "x_ = zeros(1,5);\n",
    "x_(1:3) = x;\n",
    "\n",
    "kern_ = zeros(1,5);\n",
    "kern_(1:3) = kern;\n",
    "\n",
    "x_\n",
    "kern_"
   ]
  },
  {
   "cell_type": "code",
   "execution_count": 30,
   "metadata": {},
   "outputs": [
    {
     "name": "stdout",
     "output_type": "stream",
     "text": [
      "\n",
      "out =\n",
      "\n",
      "    1.0000    2.0000    3.0000    2.0000    1.0000\n",
      "\n",
      "\n"
     ]
    }
   ],
   "source": [
    "X_ = fft(x_);\n",
    "KERN_ = fft(kern_);\n",
    "\n",
    "OUT = X_.*KERN_;\n",
    "out = ifft(OUT)"
   ]
  },
  {
   "cell_type": "markdown",
   "metadata": {},
   "source": [
    "### 6.2 Fourier Multiplication (2-dimension) "
   ]
  },
  {
   "cell_type": "code",
   "execution_count": 31,
   "metadata": {},
   "outputs": [
    {
     "name": "stdout",
     "output_type": "stream",
     "text": [
      "\n",
      "x =\n",
      "\n",
      "     4     0     0\n",
      "     0     0     0\n",
      "     0     0    10\n",
      "\n",
      "\n",
      "kern =\n",
      "\n",
      "     1     1     1\n",
      "     1     1     1\n",
      "     1     1     1\n",
      "\n",
      "\n",
      "convRes =\n",
      "\n",
      "     4     4     4     0     0\n",
      "     4     4     4     0     0\n",
      "     4     4    14    10    10\n",
      "     0     0    10    10    10\n",
      "     0     0    10    10    10\n",
      "\n",
      "\n"
     ]
    }
   ],
   "source": [
    "x        = [4, 0, 0; 0, 0, 0; 0, 0, 10]\n",
    "kern     = [1,1,1;1 1 1; 1 1 1]\n",
    "convRes  = conv2( x, kern, 'full' )"
   ]
  },
  {
   "cell_type": "code",
   "execution_count": 32,
   "metadata": {},
   "outputs": [
    {
     "name": "stdout",
     "output_type": "stream",
     "text": [
      "\n",
      "out =\n",
      "\n",
      "    4.0000    4.0000    4.0000    0.0000    0.0000\n",
      "    4.0000    4.0000    4.0000    0.0000    0.0000\n",
      "    4.0000    4.0000   14.0000   10.0000   10.0000\n",
      "         0         0   10.0000   10.0000   10.0000\n",
      "    0.0000    0.0000   10.0000   10.0000   10.0000\n",
      "\n",
      "\n"
     ]
    }
   ],
   "source": [
    "x_    = zeros(5,5);\n",
    "kern_ = zeros(5,5);\n",
    "\n",
    "x_(1:3,1:3)    = x;\n",
    "kern_(1:3,1:3) = kern;\n",
    "\n",
    "X_    = fft2(x_);\n",
    "KERN_ = fft2(kern_);\n",
    "\n",
    "OUT = X_.*KERN_;\n",
    "out = ifft2(OUT)"
   ]
  }
 ],
 "metadata": {
  "kernelspec": {
   "display_name": "Matlab",
   "language": "matlab",
   "name": "matlab_kernel"
  },
  "language_info": {
   "codemirror_mode": "octave",
   "file_extension": ".m",
   "help_links": [
    {
     "text": "MetaKernel Magics",
     "url": "https://github.com/calysto/metakernel/blob/master/metakernel/magics/README.md"
    }
   ],
   "mimetype": "text/x-octave",
   "name": "matlab",
   "version": "0.15.0"
  }
 },
 "nbformat": 4,
 "nbformat_minor": 2
}
